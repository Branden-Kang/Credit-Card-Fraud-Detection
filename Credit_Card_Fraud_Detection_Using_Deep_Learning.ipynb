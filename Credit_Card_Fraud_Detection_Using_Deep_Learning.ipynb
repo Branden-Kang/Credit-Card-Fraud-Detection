{
  "nbformat": 4,
  "nbformat_minor": 0,
  "metadata": {
    "colab": {
      "name": "Credit Card Fraud Detection-Using Deep Learning.ipynb",
      "provenance": [],
      "authorship_tag": "ABX9TyPsWl6D+4HJ1PXJAH1+toQx"
    },
    "kernelspec": {
      "name": "python3",
      "display_name": "Python 3"
    },
    "language_info": {
      "name": "python"
    }
  },
  "cells": [
    {
      "cell_type": "markdown",
      "metadata": {
        "id": "scSzqsfiT4ro"
      },
      "source": [
        "[Reference](https://medium.com/ai-techsystems/credit-card-fraud-detection-using-deep-learning-d8c0940bd117)"
      ]
    },
    {
      "cell_type": "code",
      "metadata": {
        "colab": {
          "base_uri": "https://localhost:8080/"
        },
        "id": "fbBIf20VT3Fo",
        "outputId": "3c722a13-c35a-47c9-a888-7cb362899885"
      },
      "source": [
        "!wget -N \"https://cainvas-static.s3.amazonaws.com/media/user_data/DheerajPeru/creditcard.csv.zip\"\n",
        "!unzip -o \"creditcard.csv.zip\" \n",
        "!rm \"creditcard.csv.zip\""
      ],
      "execution_count": 1,
      "outputs": [
        {
          "output_type": "stream",
          "name": "stdout",
          "text": [
            "--2021-12-05 06:38:02--  https://cainvas-static.s3.amazonaws.com/media/user_data/DheerajPeru/creditcard.csv.zip\n",
            "Resolving cainvas-static.s3.amazonaws.com (cainvas-static.s3.amazonaws.com)... 52.219.158.51\n",
            "Connecting to cainvas-static.s3.amazonaws.com (cainvas-static.s3.amazonaws.com)|52.219.158.51|:443... connected.\n",
            "HTTP request sent, awaiting response... 200 OK\n",
            "Length: 69155672 (66M) [application/x-zip-compressed]\n",
            "Saving to: ‘creditcard.csv.zip’\n",
            "\n",
            "creditcard.csv.zip  100%[===================>]  65.95M  12.7MB/s    in 6.6s    \n",
            "\n",
            "2021-12-05 06:38:10 (9.96 MB/s) - ‘creditcard.csv.zip’ saved [69155672/69155672]\n",
            "\n",
            "Archive:  creditcard.csv.zip\n",
            "  inflating: creditcard.csv          \n"
          ]
        }
      ]
    },
    {
      "cell_type": "code",
      "metadata": {
        "colab": {
          "base_uri": "https://localhost:8080/",
          "height": 224
        },
        "id": "jXWu4xuqUDk7",
        "outputId": "5037313c-6721-4947-8353-0d56a2d01cac"
      },
      "source": [
        "import numpy as np # linear algebra\n",
        "import pandas as pd # data processing, CSV file I/O (e.g. pd.read_csv)\n",
        "\n",
        "import tensorflow as tf\n",
        "from tensorflow import keras\n",
        "from tensorflow.keras import Sequential\n",
        "from tensorflow.keras.layers import Flatten, Dense, Dropout, BatchNormalization\n",
        "from tensorflow.keras.layers import Conv1D, MaxPool1D\n",
        "from tensorflow.keras.optimizers import Adam\n",
        "\n",
        "import seaborn as sns\n",
        "import matplotlib.pyplot as plt\n",
        "from sklearn.model_selection import train_test_split\n",
        "from sklearn.preprocessing import StandardScaler    # in order to scale data\n",
        "from sklearn.metrics import classification_report,accuracy_score\n",
        "\n",
        "\n",
        "import warnings as wr\n",
        "wr.filterwarnings(\"ignore\")\n",
        "\n",
        "data = pd.read_csv('creditcard.csv')\n",
        "data.head()"
      ],
      "execution_count": 6,
      "outputs": [
        {
          "output_type": "execute_result",
          "data": {
            "text/html": [
              "<div>\n",
              "<style scoped>\n",
              "    .dataframe tbody tr th:only-of-type {\n",
              "        vertical-align: middle;\n",
              "    }\n",
              "\n",
              "    .dataframe tbody tr th {\n",
              "        vertical-align: top;\n",
              "    }\n",
              "\n",
              "    .dataframe thead th {\n",
              "        text-align: right;\n",
              "    }\n",
              "</style>\n",
              "<table border=\"1\" class=\"dataframe\">\n",
              "  <thead>\n",
              "    <tr style=\"text-align: right;\">\n",
              "      <th></th>\n",
              "      <th>Time</th>\n",
              "      <th>V1</th>\n",
              "      <th>V2</th>\n",
              "      <th>V3</th>\n",
              "      <th>V4</th>\n",
              "      <th>V5</th>\n",
              "      <th>V6</th>\n",
              "      <th>V7</th>\n",
              "      <th>V8</th>\n",
              "      <th>V9</th>\n",
              "      <th>V10</th>\n",
              "      <th>V11</th>\n",
              "      <th>V12</th>\n",
              "      <th>V13</th>\n",
              "      <th>V14</th>\n",
              "      <th>V15</th>\n",
              "      <th>V16</th>\n",
              "      <th>V17</th>\n",
              "      <th>V18</th>\n",
              "      <th>V19</th>\n",
              "      <th>V20</th>\n",
              "      <th>V21</th>\n",
              "      <th>V22</th>\n",
              "      <th>V23</th>\n",
              "      <th>V24</th>\n",
              "      <th>V25</th>\n",
              "      <th>V26</th>\n",
              "      <th>V27</th>\n",
              "      <th>V28</th>\n",
              "      <th>Amount</th>\n",
              "      <th>Class</th>\n",
              "    </tr>\n",
              "  </thead>\n",
              "  <tbody>\n",
              "    <tr>\n",
              "      <th>0</th>\n",
              "      <td>0.0</td>\n",
              "      <td>-1.359807</td>\n",
              "      <td>-0.072781</td>\n",
              "      <td>2.536347</td>\n",
              "      <td>1.378155</td>\n",
              "      <td>-0.338321</td>\n",
              "      <td>0.462388</td>\n",
              "      <td>0.239599</td>\n",
              "      <td>0.098698</td>\n",
              "      <td>0.363787</td>\n",
              "      <td>0.090794</td>\n",
              "      <td>-0.551600</td>\n",
              "      <td>-0.617801</td>\n",
              "      <td>-0.991390</td>\n",
              "      <td>-0.311169</td>\n",
              "      <td>1.468177</td>\n",
              "      <td>-0.470401</td>\n",
              "      <td>0.207971</td>\n",
              "      <td>0.025791</td>\n",
              "      <td>0.403993</td>\n",
              "      <td>0.251412</td>\n",
              "      <td>-0.018307</td>\n",
              "      <td>0.277838</td>\n",
              "      <td>-0.110474</td>\n",
              "      <td>0.066928</td>\n",
              "      <td>0.128539</td>\n",
              "      <td>-0.189115</td>\n",
              "      <td>0.133558</td>\n",
              "      <td>-0.021053</td>\n",
              "      <td>149.62</td>\n",
              "      <td>0</td>\n",
              "    </tr>\n",
              "    <tr>\n",
              "      <th>1</th>\n",
              "      <td>0.0</td>\n",
              "      <td>1.191857</td>\n",
              "      <td>0.266151</td>\n",
              "      <td>0.166480</td>\n",
              "      <td>0.448154</td>\n",
              "      <td>0.060018</td>\n",
              "      <td>-0.082361</td>\n",
              "      <td>-0.078803</td>\n",
              "      <td>0.085102</td>\n",
              "      <td>-0.255425</td>\n",
              "      <td>-0.166974</td>\n",
              "      <td>1.612727</td>\n",
              "      <td>1.065235</td>\n",
              "      <td>0.489095</td>\n",
              "      <td>-0.143772</td>\n",
              "      <td>0.635558</td>\n",
              "      <td>0.463917</td>\n",
              "      <td>-0.114805</td>\n",
              "      <td>-0.183361</td>\n",
              "      <td>-0.145783</td>\n",
              "      <td>-0.069083</td>\n",
              "      <td>-0.225775</td>\n",
              "      <td>-0.638672</td>\n",
              "      <td>0.101288</td>\n",
              "      <td>-0.339846</td>\n",
              "      <td>0.167170</td>\n",
              "      <td>0.125895</td>\n",
              "      <td>-0.008983</td>\n",
              "      <td>0.014724</td>\n",
              "      <td>2.69</td>\n",
              "      <td>0</td>\n",
              "    </tr>\n",
              "    <tr>\n",
              "      <th>2</th>\n",
              "      <td>1.0</td>\n",
              "      <td>-1.358354</td>\n",
              "      <td>-1.340163</td>\n",
              "      <td>1.773209</td>\n",
              "      <td>0.379780</td>\n",
              "      <td>-0.503198</td>\n",
              "      <td>1.800499</td>\n",
              "      <td>0.791461</td>\n",
              "      <td>0.247676</td>\n",
              "      <td>-1.514654</td>\n",
              "      <td>0.207643</td>\n",
              "      <td>0.624501</td>\n",
              "      <td>0.066084</td>\n",
              "      <td>0.717293</td>\n",
              "      <td>-0.165946</td>\n",
              "      <td>2.345865</td>\n",
              "      <td>-2.890083</td>\n",
              "      <td>1.109969</td>\n",
              "      <td>-0.121359</td>\n",
              "      <td>-2.261857</td>\n",
              "      <td>0.524980</td>\n",
              "      <td>0.247998</td>\n",
              "      <td>0.771679</td>\n",
              "      <td>0.909412</td>\n",
              "      <td>-0.689281</td>\n",
              "      <td>-0.327642</td>\n",
              "      <td>-0.139097</td>\n",
              "      <td>-0.055353</td>\n",
              "      <td>-0.059752</td>\n",
              "      <td>378.66</td>\n",
              "      <td>0</td>\n",
              "    </tr>\n",
              "    <tr>\n",
              "      <th>3</th>\n",
              "      <td>1.0</td>\n",
              "      <td>-0.966272</td>\n",
              "      <td>-0.185226</td>\n",
              "      <td>1.792993</td>\n",
              "      <td>-0.863291</td>\n",
              "      <td>-0.010309</td>\n",
              "      <td>1.247203</td>\n",
              "      <td>0.237609</td>\n",
              "      <td>0.377436</td>\n",
              "      <td>-1.387024</td>\n",
              "      <td>-0.054952</td>\n",
              "      <td>-0.226487</td>\n",
              "      <td>0.178228</td>\n",
              "      <td>0.507757</td>\n",
              "      <td>-0.287924</td>\n",
              "      <td>-0.631418</td>\n",
              "      <td>-1.059647</td>\n",
              "      <td>-0.684093</td>\n",
              "      <td>1.965775</td>\n",
              "      <td>-1.232622</td>\n",
              "      <td>-0.208038</td>\n",
              "      <td>-0.108300</td>\n",
              "      <td>0.005274</td>\n",
              "      <td>-0.190321</td>\n",
              "      <td>-1.175575</td>\n",
              "      <td>0.647376</td>\n",
              "      <td>-0.221929</td>\n",
              "      <td>0.062723</td>\n",
              "      <td>0.061458</td>\n",
              "      <td>123.50</td>\n",
              "      <td>0</td>\n",
              "    </tr>\n",
              "    <tr>\n",
              "      <th>4</th>\n",
              "      <td>2.0</td>\n",
              "      <td>-1.158233</td>\n",
              "      <td>0.877737</td>\n",
              "      <td>1.548718</td>\n",
              "      <td>0.403034</td>\n",
              "      <td>-0.407193</td>\n",
              "      <td>0.095921</td>\n",
              "      <td>0.592941</td>\n",
              "      <td>-0.270533</td>\n",
              "      <td>0.817739</td>\n",
              "      <td>0.753074</td>\n",
              "      <td>-0.822843</td>\n",
              "      <td>0.538196</td>\n",
              "      <td>1.345852</td>\n",
              "      <td>-1.119670</td>\n",
              "      <td>0.175121</td>\n",
              "      <td>-0.451449</td>\n",
              "      <td>-0.237033</td>\n",
              "      <td>-0.038195</td>\n",
              "      <td>0.803487</td>\n",
              "      <td>0.408542</td>\n",
              "      <td>-0.009431</td>\n",
              "      <td>0.798278</td>\n",
              "      <td>-0.137458</td>\n",
              "      <td>0.141267</td>\n",
              "      <td>-0.206010</td>\n",
              "      <td>0.502292</td>\n",
              "      <td>0.219422</td>\n",
              "      <td>0.215153</td>\n",
              "      <td>69.99</td>\n",
              "      <td>0</td>\n",
              "    </tr>\n",
              "  </tbody>\n",
              "</table>\n",
              "</div>"
            ],
            "text/plain": [
              "   Time        V1        V2        V3  ...       V27       V28  Amount  Class\n",
              "0   0.0 -1.359807 -0.072781  2.536347  ...  0.133558 -0.021053  149.62      0\n",
              "1   0.0  1.191857  0.266151  0.166480  ... -0.008983  0.014724    2.69      0\n",
              "2   1.0 -1.358354 -1.340163  1.773209  ... -0.055353 -0.059752  378.66      0\n",
              "3   1.0 -0.966272 -0.185226  1.792993  ...  0.062723  0.061458  123.50      0\n",
              "4   2.0 -1.158233  0.877737  1.548718  ...  0.219422  0.215153   69.99      0\n",
              "\n",
              "[5 rows x 31 columns]"
            ]
          },
          "metadata": {},
          "execution_count": 6
        }
      ]
    },
    {
      "cell_type": "code",
      "metadata": {
        "colab": {
          "base_uri": "https://localhost:8080/"
        },
        "id": "UETQMqDbUnOt",
        "outputId": "6167bd16-e3e8-400b-f5aa-32eaa830fec6"
      },
      "source": [
        "data.shape"
      ],
      "execution_count": 7,
      "outputs": [
        {
          "output_type": "execute_result",
          "data": {
            "text/plain": [
              "(284807, 31)"
            ]
          },
          "metadata": {},
          "execution_count": 7
        }
      ]
    },
    {
      "cell_type": "code",
      "metadata": {
        "colab": {
          "base_uri": "https://localhost:8080/"
        },
        "id": "-LCXpO3rUpCq",
        "outputId": "ea5317ce-a571-4111-e769-800d1845ad7b"
      },
      "source": [
        "data.isnull().sum()"
      ],
      "execution_count": 8,
      "outputs": [
        {
          "output_type": "execute_result",
          "data": {
            "text/plain": [
              "Time      0\n",
              "V1        0\n",
              "V2        0\n",
              "V3        0\n",
              "V4        0\n",
              "V5        0\n",
              "V6        0\n",
              "V7        0\n",
              "V8        0\n",
              "V9        0\n",
              "V10       0\n",
              "V11       0\n",
              "V12       0\n",
              "V13       0\n",
              "V14       0\n",
              "V15       0\n",
              "V16       0\n",
              "V17       0\n",
              "V18       0\n",
              "V19       0\n",
              "V20       0\n",
              "V21       0\n",
              "V22       0\n",
              "V23       0\n",
              "V24       0\n",
              "V25       0\n",
              "V26       0\n",
              "V27       0\n",
              "V28       0\n",
              "Amount    0\n",
              "Class     0\n",
              "dtype: int64"
            ]
          },
          "metadata": {},
          "execution_count": 8
        }
      ]
    },
    {
      "cell_type": "code",
      "metadata": {
        "colab": {
          "base_uri": "https://localhost:8080/"
        },
        "id": "INR-SrJuUq-5",
        "outputId": "3b16cdc3-ce4c-4118-f5d5-be94dcfef43a"
      },
      "source": [
        "data.info()"
      ],
      "execution_count": 9,
      "outputs": [
        {
          "output_type": "stream",
          "name": "stdout",
          "text": [
            "<class 'pandas.core.frame.DataFrame'>\n",
            "RangeIndex: 284807 entries, 0 to 284806\n",
            "Data columns (total 31 columns):\n",
            " #   Column  Non-Null Count   Dtype  \n",
            "---  ------  --------------   -----  \n",
            " 0   Time    284807 non-null  float64\n",
            " 1   V1      284807 non-null  float64\n",
            " 2   V2      284807 non-null  float64\n",
            " 3   V3      284807 non-null  float64\n",
            " 4   V4      284807 non-null  float64\n",
            " 5   V5      284807 non-null  float64\n",
            " 6   V6      284807 non-null  float64\n",
            " 7   V7      284807 non-null  float64\n",
            " 8   V8      284807 non-null  float64\n",
            " 9   V9      284807 non-null  float64\n",
            " 10  V10     284807 non-null  float64\n",
            " 11  V11     284807 non-null  float64\n",
            " 12  V12     284807 non-null  float64\n",
            " 13  V13     284807 non-null  float64\n",
            " 14  V14     284807 non-null  float64\n",
            " 15  V15     284807 non-null  float64\n",
            " 16  V16     284807 non-null  float64\n",
            " 17  V17     284807 non-null  float64\n",
            " 18  V18     284807 non-null  float64\n",
            " 19  V19     284807 non-null  float64\n",
            " 20  V20     284807 non-null  float64\n",
            " 21  V21     284807 non-null  float64\n",
            " 22  V22     284807 non-null  float64\n",
            " 23  V23     284807 non-null  float64\n",
            " 24  V24     284807 non-null  float64\n",
            " 25  V25     284807 non-null  float64\n",
            " 26  V26     284807 non-null  float64\n",
            " 27  V27     284807 non-null  float64\n",
            " 28  V28     284807 non-null  float64\n",
            " 29  Amount  284807 non-null  float64\n",
            " 30  Class   284807 non-null  int64  \n",
            "dtypes: float64(30), int64(1)\n",
            "memory usage: 67.4 MB\n"
          ]
        }
      ]
    },
    {
      "cell_type": "code",
      "metadata": {
        "colab": {
          "base_uri": "https://localhost:8080/"
        },
        "id": "KfJMC8X5UtDr",
        "outputId": "2b24bf60-6bd5-4b27-d1af-8adbeae811ae"
      },
      "source": [
        "data.Class.value_counts()"
      ],
      "execution_count": 10,
      "outputs": [
        {
          "output_type": "execute_result",
          "data": {
            "text/plain": [
              "0    284315\n",
              "1       492\n",
              "Name: Class, dtype: int64"
            ]
          },
          "metadata": {},
          "execution_count": 10
        }
      ]
    },
    {
      "cell_type": "code",
      "metadata": {
        "colab": {
          "base_uri": "https://localhost:8080/",
          "height": 334
        },
        "id": "YBvJE5gVUuH6",
        "outputId": "6eb1790b-9861-4175-8a7d-fa0bd873ff21"
      },
      "source": [
        "plt.figure(figsize = (6,5))\n",
        "sns.countplot(data.Class, color = \"orange\")\n",
        "plt.show()"
      ],
      "execution_count": 11,
      "outputs": [
        {
          "output_type": "display_data",
          "data": {
            "image/png": "[encoded data removed]",
            "text/plain": [
              "<Figure size 432x360 with 1 Axes>"
            ]
          },
          "metadata": {
            "needs_background": "light"
          }
        }
      ]
    },
    {
      "cell_type": "code",
      "metadata": {
        "colab": {
          "base_uri": "https://localhost:8080/",
          "height": 626
        },
        "id": "mgM1iH-BUvT5",
        "outputId": "52252059-b2b7-4edd-e3c4-af3e2006f2b8"
      },
      "source": [
        "data.hist(figsize=(30,30))\n",
        "plt.show()"
      ],
      "execution_count": 12,
      "outputs": [
        {
          "output_type": "display_data",
          "data": {
            "image/png": "[encoded data removed]",
            "text/plain": [
              "<Figure size 2160x2160 with 36 Axes>"
            ]
          },
          "metadata": {
            "needs_background": "light"
          }
        }
      ]
    },
    {
      "cell_type": "code",
      "metadata": {
        "id": "ddeuz8T6UTHl"
      },
      "source": [
        "fraud = data[data.Class == 1]\n",
        "non_fraud = data[data.Class == 0]\n",
        "non_fraud_balanced = non_fraud.sample(4000)\n",
        "balanced_data = fraud.append(non_fraud_balanced, ignore_index = True)"
      ],
      "execution_count": 3,
      "outputs": []
    },
    {
      "cell_type": "code",
      "metadata": {
        "colab": {
          "base_uri": "https://localhost:8080/"
        },
        "id": "a1W2vaJUUyYV",
        "outputId": "6488875e-5b6c-4091-ffcb-398c0415f09b"
      },
      "source": [
        "print(\"Shape of fraud data:\", fraud.shape)\n",
        "print(\"Shape of non-fraus data:\", non_fraud.shape)"
      ],
      "execution_count": 13,
      "outputs": [
        {
          "output_type": "stream",
          "name": "stdout",
          "text": [
            "Shape of fraud data: (492, 31)\n",
            "Shape of non-fraus data: (284315, 31)\n"
          ]
        }
      ]
    },
    {
      "cell_type": "code",
      "metadata": {
        "colab": {
          "base_uri": "https://localhost:8080/"
        },
        "id": "RkOFi8h1U1jw",
        "outputId": "3183520d-bf0a-442c-ce96-c137c739a5fa"
      },
      "source": [
        "balanced_data.Class.value_counts()"
      ],
      "execution_count": 14,
      "outputs": [
        {
          "output_type": "execute_result",
          "data": {
            "text/plain": [
              "0    4000\n",
              "1     492\n",
              "Name: Class, dtype: int64"
            ]
          },
          "metadata": {},
          "execution_count": 14
        }
      ]
    },
    {
      "cell_type": "code",
      "metadata": {
        "colab": {
          "base_uri": "https://localhost:8080/",
          "height": 439
        },
        "id": "4JdCx89TU4y9",
        "outputId": "cad11c8c-e3db-41da-b776-b76c1222006c"
      },
      "source": [
        "x = balanced_data.drop(\"Class\", axis = 1)\n",
        "x # dataset without Class column"
      ],
      "execution_count": 15,
      "outputs": [
        {
          "output_type": "execute_result",
          "data": {
            "text/html": [
              "<div>\n",
              "<style scoped>\n",
              "    .dataframe tbody tr th:only-of-type {\n",
              "        vertical-align: middle;\n",
              "    }\n",
              "\n",
              "    .dataframe tbody tr th {\n",
              "        vertical-align: top;\n",
              "    }\n",
              "\n",
              "    .dataframe thead th {\n",
              "        text-align: right;\n",
              "    }\n",
              "</style>\n",
              "<table border=\"1\" class=\"dataframe\">\n",
              "  <thead>\n",
              "    <tr style=\"text-align: right;\">\n",
              "      <th></th>\n",
              "      <th>Time</th>\n",
              "      <th>V1</th>\n",
              "      <th>V2</th>\n",
              "      <th>V3</th>\n",
              "      <th>V4</th>\n",
              "      <th>V5</th>\n",
              "      <th>V6</th>\n",
              "      <th>V7</th>\n",
              "      <th>V8</th>\n",
              "      <th>V9</th>\n",
              "      <th>V10</th>\n",
              "      <th>V11</th>\n",
              "      <th>V12</th>\n",
              "      <th>V13</th>\n",
              "      <th>V14</th>\n",
              "      <th>V15</th>\n",
              "      <th>V16</th>\n",
              "      <th>V17</th>\n",
              "      <th>V18</th>\n",
              "      <th>V19</th>\n",
              "      <th>V20</th>\n",
              "      <th>V21</th>\n",
              "      <th>V22</th>\n",
              "      <th>V23</th>\n",
              "      <th>V24</th>\n",
              "      <th>V25</th>\n",
              "      <th>V26</th>\n",
              "      <th>V27</th>\n",
              "      <th>V28</th>\n",
              "      <th>Amount</th>\n",
              "    </tr>\n",
              "  </thead>\n",
              "  <tbody>\n",
              "    <tr>\n",
              "      <th>0</th>\n",
              "      <td>406.0</td>\n",
              "      <td>-2.312227</td>\n",
              "      <td>1.951992</td>\n",
              "      <td>-1.609851</td>\n",
              "      <td>3.997906</td>\n",
              "      <td>-0.522188</td>\n",
              "      <td>-1.426545</td>\n",
              "      <td>-2.537387</td>\n",
              "      <td>1.391657</td>\n",
              "      <td>-2.770089</td>\n",
              "      <td>-2.772272</td>\n",
              "      <td>3.202033</td>\n",
              "      <td>-2.899907</td>\n",
              "      <td>-0.595222</td>\n",
              "      <td>-4.289254</td>\n",
              "      <td>0.389724</td>\n",
              "      <td>-1.140747</td>\n",
              "      <td>-2.830056</td>\n",
              "      <td>-0.016822</td>\n",
              "      <td>0.416956</td>\n",
              "      <td>0.126911</td>\n",
              "      <td>0.517232</td>\n",
              "      <td>-0.035049</td>\n",
              "      <td>-0.465211</td>\n",
              "      <td>0.320198</td>\n",
              "      <td>0.044519</td>\n",
              "      <td>0.177840</td>\n",
              "      <td>0.261145</td>\n",
              "      <td>-0.143276</td>\n",
              "      <td>0.00</td>\n",
              "    </tr>\n",
              "    <tr>\n",
              "      <th>1</th>\n",
              "      <td>472.0</td>\n",
              "      <td>-3.043541</td>\n",
              "      <td>-3.157307</td>\n",
              "      <td>1.088463</td>\n",
              "      <td>2.288644</td>\n",
              "      <td>1.359805</td>\n",
              "      <td>-1.064823</td>\n",
              "      <td>0.325574</td>\n",
              "      <td>-0.067794</td>\n",
              "      <td>-0.270953</td>\n",
              "      <td>-0.838587</td>\n",
              "      <td>-0.414575</td>\n",
              "      <td>-0.503141</td>\n",
              "      <td>0.676502</td>\n",
              "      <td>-1.692029</td>\n",
              "      <td>2.000635</td>\n",
              "      <td>0.666780</td>\n",
              "      <td>0.599717</td>\n",
              "      <td>1.725321</td>\n",
              "      <td>0.283345</td>\n",
              "      <td>2.102339</td>\n",
              "      <td>0.661696</td>\n",
              "      <td>0.435477</td>\n",
              "      <td>1.375966</td>\n",
              "      <td>-0.293803</td>\n",
              "      <td>0.279798</td>\n",
              "      <td>-0.145362</td>\n",
              "      <td>-0.252773</td>\n",
              "      <td>0.035764</td>\n",
              "      <td>529.00</td>\n",
              "    </tr>\n",
              "    <tr>\n",
              "      <th>2</th>\n",
              "      <td>4462.0</td>\n",
              "      <td>-2.303350</td>\n",
              "      <td>1.759247</td>\n",
              "      <td>-0.359745</td>\n",
              "      <td>2.330243</td>\n",
              "      <td>-0.821628</td>\n",
              "      <td>-0.075788</td>\n",
              "      <td>0.562320</td>\n",
              "      <td>-0.399147</td>\n",
              "      <td>-0.238253</td>\n",
              "      <td>-1.525412</td>\n",
              "      <td>2.032912</td>\n",
              "      <td>-6.560124</td>\n",
              "      <td>0.022937</td>\n",
              "      <td>-1.470102</td>\n",
              "      <td>-0.698826</td>\n",
              "      <td>-2.282194</td>\n",
              "      <td>-4.781831</td>\n",
              "      <td>-2.615665</td>\n",
              "      <td>-1.334441</td>\n",
              "      <td>-0.430022</td>\n",
              "      <td>-0.294166</td>\n",
              "      <td>-0.932391</td>\n",
              "      <td>0.172726</td>\n",
              "      <td>-0.087330</td>\n",
              "      <td>-0.156114</td>\n",
              "      <td>-0.542628</td>\n",
              "      <td>0.039566</td>\n",
              "      <td>-0.153029</td>\n",
              "      <td>239.93</td>\n",
              "    </tr>\n",
              "    <tr>\n",
              "      <th>3</th>\n",
              "      <td>6986.0</td>\n",
              "      <td>-4.397974</td>\n",
              "      <td>1.358367</td>\n",
              "      <td>-2.592844</td>\n",
              "      <td>2.679787</td>\n",
              "      <td>-1.128131</td>\n",
              "      <td>-1.706536</td>\n",
              "      <td>-3.496197</td>\n",
              "      <td>-0.248778</td>\n",
              "      <td>-0.247768</td>\n",
              "      <td>-4.801637</td>\n",
              "      <td>4.895844</td>\n",
              "      <td>-10.912819</td>\n",
              "      <td>0.184372</td>\n",
              "      <td>-6.771097</td>\n",
              "      <td>-0.007326</td>\n",
              "      <td>-7.358083</td>\n",
              "      <td>-12.598419</td>\n",
              "      <td>-5.131549</td>\n",
              "      <td>0.308334</td>\n",
              "      <td>-0.171608</td>\n",
              "      <td>0.573574</td>\n",
              "      <td>0.176968</td>\n",
              "      <td>-0.436207</td>\n",
              "      <td>-0.053502</td>\n",
              "      <td>0.252405</td>\n",
              "      <td>-0.657488</td>\n",
              "      <td>-0.827136</td>\n",
              "      <td>0.849573</td>\n",
              "      <td>59.00</td>\n",
              "    </tr>\n",
              "    <tr>\n",
              "      <th>4</th>\n",
              "      <td>7519.0</td>\n",
              "      <td>1.234235</td>\n",
              "      <td>3.019740</td>\n",
              "      <td>-4.304597</td>\n",
              "      <td>4.732795</td>\n",
              "      <td>3.624201</td>\n",
              "      <td>-1.357746</td>\n",
              "      <td>1.713445</td>\n",
              "      <td>-0.496358</td>\n",
              "      <td>-1.282858</td>\n",
              "      <td>-2.447469</td>\n",
              "      <td>2.101344</td>\n",
              "      <td>-4.609628</td>\n",
              "      <td>1.464378</td>\n",
              "      <td>-6.079337</td>\n",
              "      <td>-0.339237</td>\n",
              "      <td>2.581851</td>\n",
              "      <td>6.739384</td>\n",
              "      <td>3.042493</td>\n",
              "      <td>-2.721853</td>\n",
              "      <td>0.009061</td>\n",
              "      <td>-0.379068</td>\n",
              "      <td>-0.704181</td>\n",
              "      <td>-0.656805</td>\n",
              "      <td>-1.632653</td>\n",
              "      <td>1.488901</td>\n",
              "      <td>0.566797</td>\n",
              "      <td>-0.010016</td>\n",
              "      <td>0.146793</td>\n",
              "      <td>1.00</td>\n",
              "    </tr>\n",
              "    <tr>\n",
              "      <th>...</th>\n",
              "      <td>...</td>\n",
              "      <td>...</td>\n",
              "      <td>...</td>\n",
              "      <td>...</td>\n",
              "      <td>...</td>\n",
              "      <td>...</td>\n",
              "      <td>...</td>\n",
              "      <td>...</td>\n",
              "      <td>...</td>\n",
              "      <td>...</td>\n",
              "      <td>...</td>\n",
              "      <td>...</td>\n",
              "      <td>...</td>\n",
              "      <td>...</td>\n",
              "      <td>...</td>\n",
              "      <td>...</td>\n",
              "      <td>...</td>\n",
              "      <td>...</td>\n",
              "      <td>...</td>\n",
              "      <td>...</td>\n",
              "      <td>...</td>\n",
              "      <td>...</td>\n",
              "      <td>...</td>\n",
              "      <td>...</td>\n",
              "      <td>...</td>\n",
              "      <td>...</td>\n",
              "      <td>...</td>\n",
              "      <td>...</td>\n",
              "      <td>...</td>\n",
              "      <td>...</td>\n",
              "    </tr>\n",
              "    <tr>\n",
              "      <th>4487</th>\n",
              "      <td>171769.0</td>\n",
              "      <td>-1.074237</td>\n",
              "      <td>-0.780975</td>\n",
              "      <td>0.923050</td>\n",
              "      <td>-2.200484</td>\n",
              "      <td>1.714383</td>\n",
              "      <td>-0.559763</td>\n",
              "      <td>0.140150</td>\n",
              "      <td>-0.183681</td>\n",
              "      <td>-1.744104</td>\n",
              "      <td>0.288242</td>\n",
              "      <td>0.516415</td>\n",
              "      <td>-0.347462</td>\n",
              "      <td>0.771737</td>\n",
              "      <td>-0.258500</td>\n",
              "      <td>-0.537614</td>\n",
              "      <td>1.157537</td>\n",
              "      <td>-0.512536</td>\n",
              "      <td>-0.436768</td>\n",
              "      <td>0.932470</td>\n",
              "      <td>0.578932</td>\n",
              "      <td>0.496835</td>\n",
              "      <td>1.145234</td>\n",
              "      <td>-0.517047</td>\n",
              "      <td>0.167682</td>\n",
              "      <td>1.114862</td>\n",
              "      <td>0.153041</td>\n",
              "      <td>-0.220888</td>\n",
              "      <td>-0.175295</td>\n",
              "      <td>26.80</td>\n",
              "    </tr>\n",
              "    <tr>\n",
              "      <th>4488</th>\n",
              "      <td>35590.0</td>\n",
              "      <td>-0.906632</td>\n",
              "      <td>0.368481</td>\n",
              "      <td>0.545909</td>\n",
              "      <td>-1.569433</td>\n",
              "      <td>-0.415392</td>\n",
              "      <td>-0.714339</td>\n",
              "      <td>-0.211570</td>\n",
              "      <td>0.469389</td>\n",
              "      <td>-1.303686</td>\n",
              "      <td>-0.427564</td>\n",
              "      <td>0.684669</td>\n",
              "      <td>-0.617404</td>\n",
              "      <td>-0.962032</td>\n",
              "      <td>-0.842114</td>\n",
              "      <td>-1.247908</td>\n",
              "      <td>1.722871</td>\n",
              "      <td>0.872094</td>\n",
              "      <td>-0.405882</td>\n",
              "      <td>0.502575</td>\n",
              "      <td>-0.103449</td>\n",
              "      <td>0.120510</td>\n",
              "      <td>0.027605</td>\n",
              "      <td>-0.106645</td>\n",
              "      <td>-0.093293</td>\n",
              "      <td>-0.292876</td>\n",
              "      <td>-0.531243</td>\n",
              "      <td>-0.117769</td>\n",
              "      <td>0.070405</td>\n",
              "      <td>25.08</td>\n",
              "    </tr>\n",
              "    <tr>\n",
              "      <th>4489</th>\n",
              "      <td>56517.0</td>\n",
              "      <td>-0.783206</td>\n",
              "      <td>1.451591</td>\n",
              "      <td>1.783048</td>\n",
              "      <td>0.899246</td>\n",
              "      <td>0.454766</td>\n",
              "      <td>-0.508260</td>\n",
              "      <td>1.299306</td>\n",
              "      <td>-0.932811</td>\n",
              "      <td>0.109709</td>\n",
              "      <td>1.426447</td>\n",
              "      <td>0.091288</td>\n",
              "      <td>0.283417</td>\n",
              "      <td>1.306484</td>\n",
              "      <td>-0.834872</td>\n",
              "      <td>1.282425</td>\n",
              "      <td>-0.662684</td>\n",
              "      <td>-0.550781</td>\n",
              "      <td>-0.175652</td>\n",
              "      <td>0.656213</td>\n",
              "      <td>0.507353</td>\n",
              "      <td>-0.100581</td>\n",
              "      <td>0.365170</td>\n",
              "      <td>-0.176064</td>\n",
              "      <td>0.413981</td>\n",
              "      <td>-0.245319</td>\n",
              "      <td>-0.469345</td>\n",
              "      <td>-0.493530</td>\n",
              "      <td>-0.403436</td>\n",
              "      <td>1.98</td>\n",
              "    </tr>\n",
              "    <tr>\n",
              "      <th>4490</th>\n",
              "      <td>139276.0</td>\n",
              "      <td>0.045971</td>\n",
              "      <td>0.900683</td>\n",
              "      <td>0.308123</td>\n",
              "      <td>-0.587793</td>\n",
              "      <td>0.443676</td>\n",
              "      <td>-1.123315</td>\n",
              "      <td>1.036177</td>\n",
              "      <td>-0.231606</td>\n",
              "      <td>-0.108139</td>\n",
              "      <td>-0.422020</td>\n",
              "      <td>-0.846927</td>\n",
              "      <td>0.364826</td>\n",
              "      <td>0.429358</td>\n",
              "      <td>0.028937</td>\n",
              "      <td>-0.450226</td>\n",
              "      <td>-0.115898</td>\n",
              "      <td>-0.429291</td>\n",
              "      <td>-0.803549</td>\n",
              "      <td>-0.089773</td>\n",
              "      <td>-0.014980</td>\n",
              "      <td>-0.255895</td>\n",
              "      <td>-0.535164</td>\n",
              "      <td>0.062542</td>\n",
              "      <td>0.051093</td>\n",
              "      <td>-0.476757</td>\n",
              "      <td>0.136370</td>\n",
              "      <td>0.250408</td>\n",
              "      <td>0.098317</td>\n",
              "      <td>1.79</td>\n",
              "    </tr>\n",
              "    <tr>\n",
              "      <th>4491</th>\n",
              "      <td>42881.0</td>\n",
              "      <td>0.738089</td>\n",
              "      <td>-0.882800</td>\n",
              "      <td>-0.335895</td>\n",
              "      <td>-0.548265</td>\n",
              "      <td>-0.720984</td>\n",
              "      <td>-0.620416</td>\n",
              "      <td>0.048306</td>\n",
              "      <td>-0.063102</td>\n",
              "      <td>1.253288</td>\n",
              "      <td>-1.488856</td>\n",
              "      <td>1.358738</td>\n",
              "      <td>1.175300</td>\n",
              "      <td>0.007949</td>\n",
              "      <td>-0.962726</td>\n",
              "      <td>0.517675</td>\n",
              "      <td>0.008576</td>\n",
              "      <td>0.508795</td>\n",
              "      <td>1.180201</td>\n",
              "      <td>0.802916</td>\n",
              "      <td>0.464699</td>\n",
              "      <td>0.120032</td>\n",
              "      <td>-0.008033</td>\n",
              "      <td>-0.405292</td>\n",
              "      <td>-0.063591</td>\n",
              "      <td>0.600799</td>\n",
              "      <td>-0.650157</td>\n",
              "      <td>0.034230</td>\n",
              "      <td>0.084629</td>\n",
              "      <td>262.87</td>\n",
              "    </tr>\n",
              "  </tbody>\n",
              "</table>\n",
              "<p>4492 rows × 30 columns</p>\n",
              "</div>"
            ],
            "text/plain": [
              "          Time        V1        V2  ...       V27       V28  Amount\n",
              "0        406.0 -2.312227  1.951992  ...  0.261145 -0.143276    0.00\n",
              "1        472.0 -3.043541 -3.157307  ... -0.252773  0.035764  529.00\n",
              "2       4462.0 -2.303350  1.759247  ...  0.039566 -0.153029  239.93\n",
              "3       6986.0 -4.397974  1.358367  ... -0.827136  0.849573   59.00\n",
              "4       7519.0  1.234235  3.019740  ... -0.010016  0.146793    1.00\n",
              "...        ...       ...       ...  ...       ...       ...     ...\n",
              "4487  171769.0 -1.074237 -0.780975  ... -0.220888 -0.175295   26.80\n",
              "4488   35590.0 -0.906632  0.368481  ... -0.117769  0.070405   25.08\n",
              "4489   56517.0 -0.783206  1.451591  ... -0.493530 -0.403436    1.98\n",
              "4490  139276.0  0.045971  0.900683  ...  0.250408  0.098317    1.79\n",
              "4491   42881.0  0.738089 -0.882800  ...  0.034230  0.084629  262.87\n",
              "\n",
              "[4492 rows x 30 columns]"
            ]
          },
          "metadata": {},
          "execution_count": 15
        }
      ]
    },
    {
      "cell_type": "code",
      "metadata": {
        "colab": {
          "base_uri": "https://localhost:8080/"
        },
        "id": "GCo4HQn9U7dd",
        "outputId": "7a6ff7b9-cd4a-4d36-b700-67ffc4786de2"
      },
      "source": [
        "y = balanced_data.Class\n",
        "y"
      ],
      "execution_count": 16,
      "outputs": [
        {
          "output_type": "execute_result",
          "data": {
            "text/plain": [
              "0       1\n",
              "1       1\n",
              "2       1\n",
              "3       1\n",
              "4       1\n",
              "       ..\n",
              "4487    0\n",
              "4488    0\n",
              "4489    0\n",
              "4490    0\n",
              "4491    0\n",
              "Name: Class, Length: 4492, dtype: int64"
            ]
          },
          "metadata": {},
          "execution_count": 16
        }
      ]
    },
    {
      "cell_type": "code",
      "metadata": {
        "colab": {
          "base_uri": "https://localhost:8080/",
          "height": 334
        },
        "id": "ROJ4i-7AU8up",
        "outputId": "6e434323-a681-449f-b39b-f35b1f53bb46"
      },
      "source": [
        "plt.figure(figsize = (6,5))\n",
        "sns.countplot(y, palette=\"Set2\")\n",
        "plt.show()"
      ],
      "execution_count": 17,
      "outputs": [
        {
          "output_type": "display_data",
          "data": {
            "image/png": "[encoded data removed]",
            "text/plain": [
              "<Figure size 432x360 with 1 Axes>"
            ]
          },
          "metadata": {
            "needs_background": "light"
          }
        }
      ]
    },
    {
      "cell_type": "code",
      "metadata": {
        "id": "DoJlIjj6U-Ni"
      },
      "source": [
        "xtrain, xtest, ytrain, ytest = train_test_split(x, y, test_size = 0.2, random_state = 42)"
      ],
      "execution_count": 19,
      "outputs": []
    },
    {
      "cell_type": "code",
      "metadata": {
        "id": "2bc44IdTUVt_"
      },
      "source": [
        "from sklearn.preprocessing import StandardScaler\n",
        "\n",
        "scaler = StandardScaler()\n",
        "scaled_xtrain = scaler.fit_transform(xtrain)\n",
        "scaled_xtest = scaler.fit_transform(xtest)"
      ],
      "execution_count": 20,
      "outputs": []
    },
    {
      "cell_type": "code",
      "metadata": {
        "colab": {
          "base_uri": "https://localhost:8080/"
        },
        "id": "bxLTQgV7UXeN",
        "outputId": "635de8c1-c5cd-48b8-d939-cd1db5fdbfc6"
      },
      "source": [
        "print(scaled_xtrain.shape)\n",
        "print(scaled_xtest.shape)\n",
        "print(ytrain.shape)\n",
        "print(ytest.shape)"
      ],
      "execution_count": 21,
      "outputs": [
        {
          "output_type": "stream",
          "name": "stdout",
          "text": [
            "(3593, 30)\n",
            "(899, 30)\n",
            "(3593,)\n",
            "(899,)\n"
          ]
        }
      ]
    },
    {
      "cell_type": "code",
      "metadata": {
        "colab": {
          "base_uri": "https://localhost:8080/"
        },
        "id": "gVUYp1FmVFFZ",
        "outputId": "4df79334-5cf6-4f07-a6e7-83470e4d0492"
      },
      "source": [
        "scaled_xtrain3d = scaled_xtrain.reshape(scaled_xtrain.shape[0],scaled_xtrain.shape[1],1)\n",
        "scaled_xtest3d = scaled_xtest.reshape(scaled_xtest.shape[0],scaled_xtest.shape[1],1)\n",
        "\n",
        "scaled_xtrain3d.shape, scaled_xtest3d.shape"
      ],
      "execution_count": 22,
      "outputs": [
        {
          "output_type": "execute_result",
          "data": {
            "text/plain": [
              "((3593, 30, 1), (899, 30, 1))"
            ]
          },
          "metadata": {},
          "execution_count": 22
        }
      ]
    },
    {
      "cell_type": "code",
      "metadata": {
        "colab": {
          "base_uri": "https://localhost:8080/"
        },
        "id": "1nF_qKpNVG8U",
        "outputId": "f2a92214-5298-4618-b243-5ad20ae727c6"
      },
      "source": [
        "# First Layer:\n",
        "\n",
        "cnn = Sequential()\n",
        "cnn.add(Conv1D(32, 2, activation = \"relu\", input_shape = (30,1)))\n",
        "cnn.add(Dropout(0.1))\n",
        "\n",
        "# Second Layer:\n",
        "\n",
        "cnn.add(BatchNormalization()) # Batch normalization is a technique for training very deep neural networks \n",
        "                               # that standardizes the inputs to a layer for each mini-batch. This \n",
        "                               # has the effect of stabilizing the learning process and dramatically\n",
        "                               # reducing the number of training epochs required to train deep networks\n",
        "\n",
        "cnn.add(Conv1D(64, 2, activation = \"relu\"))\n",
        "cnn.add(Dropout(0.2))          # prevents over-fitting (randomly remove some neurons)\n",
        "\n",
        "# Flattening Layer:\n",
        "\n",
        "cnn.add(Flatten())\n",
        "cnn.add(Dropout(0.4))\n",
        "cnn.add(Dense(64, activation = \"relu\"))\n",
        "cnn.add(Dropout(0.5))\n",
        "\n",
        "# Last Layer:\n",
        "\n",
        "cnn.add(Dense(1, activation = \"sigmoid\"))\n",
        "\n",
        "cnn.summary()"
      ],
      "execution_count": 23,
      "outputs": [
        {
          "output_type": "stream",
          "name": "stdout",
          "text": [
            "Model: \"sequential\"\n",
            "_________________________________________________________________\n",
            " Layer (type)                Output Shape              Param #   \n",
            "=================================================================\n",
            " conv1d (Conv1D)             (None, 29, 32)            96        \n",
            "                                                                 \n",
            " dropout (Dropout)           (None, 29, 32)            0         \n",
            "                                                                 \n",
            " batch_normalization (BatchN  (None, 29, 32)           128       \n",
            " ormalization)                                                   \n",
            "                                                                 \n",
            " conv1d_1 (Conv1D)           (None, 28, 64)            4160      \n",
            "                                                                 \n",
            " dropout_1 (Dropout)         (None, 28, 64)            0         \n",
            "                                                                 \n",
            " flatten (Flatten)           (None, 1792)              0         \n",
            "                                                                 \n",
            " dropout_2 (Dropout)         (None, 1792)              0         \n",
            "                                                                 \n",
            " dense (Dense)               (None, 64)                114752    \n",
            "                                                                 \n",
            " dropout_3 (Dropout)         (None, 64)                0         \n",
            "                                                                 \n",
            " dense_1 (Dense)             (None, 1)                 65        \n",
            "                                                                 \n",
            "=================================================================\n",
            "Total params: 119,201\n",
            "Trainable params: 119,137\n",
            "Non-trainable params: 64\n",
            "_________________________________________________________________\n"
          ]
        }
      ]
    },
    {
      "cell_type": "code",
      "metadata": {
        "id": "YHJsXtnbVNWU"
      },
      "source": [
        "cnn.compile(optimizer = Adam(lr=0.0001), loss = \"binary_crossentropy\", metrics = [\"accuracy\"])"
      ],
      "execution_count": 24,
      "outputs": []
    },
    {
      "cell_type": "code",
      "metadata": {
        "colab": {
          "base_uri": "https://localhost:8080/"
        },
        "id": "LB_vkvrOVOy3",
        "outputId": "43886abe-aaf6-4b54-95b1-a0e9e5bbeb8f"
      },
      "source": [
        "history = cnn.fit(scaled_xtrain3d, ytrain, epochs = 20, validation_data=(scaled_xtest3d, ytest), verbose=1)"
      ],
      "execution_count": 25,
      "outputs": [
        {
          "output_type": "stream",
          "name": "stdout",
          "text": [
            "Epoch 1/20\n",
            "113/113 [==============================] - 2s 10ms/step - loss: 0.2615 - accuracy: 0.9171 - val_loss: 0.3282 - val_accuracy: 0.9789\n",
            "Epoch 2/20\n",
            "113/113 [==============================] - 1s 8ms/step - loss: 0.1318 - accuracy: 0.9672 - val_loss: 0.1600 - val_accuracy: 0.9833\n",
            "Epoch 3/20\n",
            "113/113 [==============================] - 1s 8ms/step - loss: 0.1133 - accuracy: 0.9738 - val_loss: 0.0913 - val_accuracy: 0.9855\n",
            "Epoch 4/20\n",
            "113/113 [==============================] - 1s 8ms/step - loss: 0.1124 - accuracy: 0.9713 - val_loss: 0.0720 - val_accuracy: 0.9855\n",
            "Epoch 5/20\n",
            "113/113 [==============================] - 1s 8ms/step - loss: 0.1002 - accuracy: 0.9763 - val_loss: 0.0692 - val_accuracy: 0.9889\n",
            "Epoch 6/20\n",
            "113/113 [==============================] - 1s 8ms/step - loss: 0.0919 - accuracy: 0.9786 - val_loss: 0.0683 - val_accuracy: 0.9889\n",
            "Epoch 7/20\n",
            "113/113 [==============================] - 1s 8ms/step - loss: 0.0875 - accuracy: 0.9777 - val_loss: 0.0680 - val_accuracy: 0.9900\n",
            "Epoch 8/20\n",
            "113/113 [==============================] - 1s 8ms/step - loss: 0.0867 - accuracy: 0.9786 - val_loss: 0.0679 - val_accuracy: 0.9900\n",
            "Epoch 9/20\n",
            "113/113 [==============================] - 1s 8ms/step - loss: 0.0857 - accuracy: 0.9777 - val_loss: 0.0677 - val_accuracy: 0.9900\n",
            "Epoch 10/20\n",
            "113/113 [==============================] - 1s 8ms/step - loss: 0.0821 - accuracy: 0.9777 - val_loss: 0.0674 - val_accuracy: 0.9900\n",
            "Epoch 11/20\n",
            "113/113 [==============================] - 1s 8ms/step - loss: 0.0817 - accuracy: 0.9811 - val_loss: 0.0674 - val_accuracy: 0.9900\n",
            "Epoch 12/20\n",
            "113/113 [==============================] - 1s 8ms/step - loss: 0.0808 - accuracy: 0.9802 - val_loss: 0.0680 - val_accuracy: 0.9900\n",
            "Epoch 13/20\n",
            "113/113 [==============================] - 1s 8ms/step - loss: 0.0837 - accuracy: 0.9783 - val_loss: 0.0673 - val_accuracy: 0.9900\n",
            "Epoch 14/20\n",
            "113/113 [==============================] - 1s 8ms/step - loss: 0.0793 - accuracy: 0.9791 - val_loss: 0.0674 - val_accuracy: 0.9900\n",
            "Epoch 15/20\n",
            "113/113 [==============================] - 1s 8ms/step - loss: 0.0763 - accuracy: 0.9805 - val_loss: 0.0685 - val_accuracy: 0.9900\n",
            "Epoch 16/20\n",
            "113/113 [==============================] - 1s 8ms/step - loss: 0.0752 - accuracy: 0.9788 - val_loss: 0.0684 - val_accuracy: 0.9900\n",
            "Epoch 17/20\n",
            "113/113 [==============================] - 1s 8ms/step - loss: 0.0683 - accuracy: 0.9816 - val_loss: 0.0692 - val_accuracy: 0.9900\n",
            "Epoch 18/20\n",
            "113/113 [==============================] - 1s 8ms/step - loss: 0.0714 - accuracy: 0.9808 - val_loss: 0.0694 - val_accuracy: 0.9900\n",
            "Epoch 19/20\n",
            "113/113 [==============================] - 1s 9ms/step - loss: 0.0711 - accuracy: 0.9797 - val_loss: 0.0692 - val_accuracy: 0.9900\n",
            "Epoch 20/20\n",
            "113/113 [==============================] - 1s 9ms/step - loss: 0.0732 - accuracy: 0.9816 - val_loss: 0.0702 - val_accuracy: 0.9900\n"
          ]
        }
      ]
    },
    {
      "cell_type": "code",
      "metadata": {
        "colab": {
          "base_uri": "https://localhost:8080/",
          "height": 350
        },
        "id": "GW0Y-9C0VPzC",
        "outputId": "6441803a-43c5-42c2-d037-31af62601836"
      },
      "source": [
        "fig, ax1 = plt.subplots(figsize= (10, 5))\n",
        "plt.plot(history.history[\"accuracy\"])\n",
        "plt.plot(history.history[\"val_accuracy\"])\n",
        "plt.title(\"Model accuracy\")\n",
        "plt.ylabel(\"Accuracy\")\n",
        "plt.xlabel(\"Epoch\")\n",
        "plt.legend([\"Train\", \"Validation\"], loc = \"upper left\")\n",
        "plt.show()"
      ],
      "execution_count": 26,
      "outputs": [
        {
          "output_type": "display_data",
          "data": {
            "image/png": "[encoded data removed]",
            "text/plain": [
              "<Figure size 720x360 with 1 Axes>"
            ]
          },
          "metadata": {
            "needs_background": "light"
          }
        }
      ]
    },
    {
      "cell_type": "code",
      "metadata": {
        "colab": {
          "base_uri": "https://localhost:8080/",
          "height": 350
        },
        "id": "HnKDiVw-VRLS",
        "outputId": "a0cd9ce8-503a-4bb4-b344-a7ae29731364"
      },
      "source": [
        "fig, ax1 = plt.subplots(figsize= (10, 5))\n",
        "plt.plot(history.history[\"loss\"])\n",
        "plt.plot(history.history[\"val_loss\"])\n",
        "plt.title(\"Model loss\")\n",
        "plt.ylabel(\"Loss\")\n",
        "plt.xlabel(\"Epoch\")\n",
        "plt.legend([\"Train\", \"Validation\"], loc = \"upper left\")\n",
        "plt.show()"
      ],
      "execution_count": 27,
      "outputs": [
        {
          "output_type": "display_data",
          "data": {
            "image/png": "[encoded data removed]",
            "text/plain": [
              "<Figure size 720x360 with 1 Axes>"
            ]
          },
          "metadata": {
            "needs_background": "light"
          }
        }
      ]
    },
    {
      "cell_type": "code",
      "metadata": {
        "colab": {
          "base_uri": "https://localhost:8080/",
          "height": 281
        },
        "id": "I8wJFdEIVSYV",
        "outputId": "72d8beea-888e-4731-ebcf-b67f3d1f32d1"
      },
      "source": [
        "from sklearn.metrics import confusion_matrix\n",
        "\n",
        "cnn_predictions = (cnn.predict(scaled_xtest3d) > 0.5).astype(\"int32\")\n",
        "\n",
        "confusion_matrix = confusion_matrix(ytest, cnn_predictions)\n",
        "sns.heatmap(confusion_matrix, annot=True, fmt=\"d\", cbar = False)\n",
        "plt.title(\"CNN Confusion Matrix\")\n",
        "plt.show()"
      ],
      "execution_count": 32,
      "outputs": [
        {
          "output_type": "display_data",
          "data": {
            "image/png": "[encoded data removed]",
            "text/plain": [
              "<Figure size 432x288 with 1 Axes>"
            ]
          },
          "metadata": {
            "needs_background": "light"
          }
        }
      ]
    },
    {
      "cell_type": "code",
      "metadata": {
        "colab": {
          "base_uri": "https://localhost:8080/"
        },
        "id": "OjXG-aQZVT4d",
        "outputId": "58494528-0493-48ec-c08c-4a2ef6b24316"
      },
      "source": [
        "accuracy_score(ytest, cnn_predictions)"
      ],
      "execution_count": 33,
      "outputs": [
        {
          "output_type": "execute_result",
          "data": {
            "text/plain": [
              "0.9899888765294772"
            ]
          },
          "metadata": {},
          "execution_count": 33
        }
      ]
    },
    {
      "cell_type": "code",
      "metadata": {
        "colab": {
          "base_uri": "https://localhost:8080/"
        },
        "id": "FtaEcUvUVvCv",
        "outputId": "35cc235f-7ea0-41f7-d619-c6587c7a1b2d"
      },
      "source": [
        "from sklearn.metrics import precision_recall_fscore_support as score\n",
        "\n",
        "precision, recall, fscore, support = score(ytest, cnn_predictions)\n",
        "print('precision: {}'.format(precision))\n",
        "print('recall: {}'.format(recall))\n",
        "print('fscore: {}'.format(fscore))\n",
        "print('support: {}'.format(support))"
      ],
      "execution_count": 34,
      "outputs": [
        {
          "output_type": "stream",
          "name": "stdout",
          "text": [
            "precision: [0.99001248 0.98979592]\n",
            "recall: [0.99874055 0.92380952]\n",
            "fscore: [0.99435737 0.95566502]\n",
            "support: [794 105]\n"
          ]
        }
      ]
    },
    {
      "cell_type": "code",
      "metadata": {
        "id": "7EorK5nHVwl2"
      },
      "source": [
        "cnn.save('fraud_detection_model.h5')"
      ],
      "execution_count": 35,
      "outputs": []
    },
    {
      "cell_type": "code",
      "metadata": {
        "id": "c2NEjPbWVxy5"
      },
      "source": [
        "# !deepCC fraud_detection_model.h5"
      ],
      "execution_count": 37,
      "outputs": []
    }
  ]
}